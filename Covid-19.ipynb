{
 "cells": [
  {
   "cell_type": "code",
   "execution_count": 1,
   "metadata": {},
   "outputs": [],
   "source": [
    "import dash\n",
    "import dash_html_components as html\n",
    "import dash_core_components as dcc\n",
    "import plotly.express as px\n",
    "from dash.dependencies import Input, Output\n",
    "import datetime\n",
    "from dateutil.relativedelta import relativedelta\n",
    "import pandas as pd\n",
    "import numpy as np\n",
    "import plotly.graph_objs as go\n",
    "import matplotlib.pyplot as plt\n",
    "import seaborn as sns\n",
    "from scipy import stats\n",
    "import plotly.offline as pyo\n",
    "import plotly.graph_objs as go\n",
    "from collections import OrderedDict "
   ]
  },
  {
   "cell_type": "code",
   "execution_count": 2,
   "metadata": {},
   "outputs": [
    {
     "data": {
      "text/html": [
       "<div>\n",
       "<style scoped>\n",
       "    .dataframe tbody tr th:only-of-type {\n",
       "        vertical-align: middle;\n",
       "    }\n",
       "\n",
       "    .dataframe tbody tr th {\n",
       "        vertical-align: top;\n",
       "    }\n",
       "\n",
       "    .dataframe thead th {\n",
       "        text-align: right;\n",
       "    }\n",
       "</style>\n",
       "<table border=\"1\" class=\"dataframe\">\n",
       "  <thead>\n",
       "    <tr style=\"text-align: right;\">\n",
       "      <th></th>\n",
       "      <th>n</th>\n",
       "      <th>sex</th>\n",
       "      <th>age</th>\n",
       "      <th>country</th>\n",
       "      <th>province</th>\n",
       "      <th>disease</th>\n",
       "      <th>group</th>\n",
       "      <th>exposure_start</th>\n",
       "      <th>exposure_end</th>\n",
       "      <th>infection_reason</th>\n",
       "      <th>infection_order</th>\n",
       "      <th>infected_by</th>\n",
       "      <th>contact_number</th>\n",
       "      <th>confirmed_date</th>\n",
       "      <th>released_date</th>\n",
       "      <th>deceased_date</th>\n",
       "      <th>state</th>\n",
       "    </tr>\n",
       "  </thead>\n",
       "  <tbody>\n",
       "    <tr>\n",
       "      <th>0</th>\n",
       "      <td>0</td>\n",
       "      <td>male</td>\n",
       "      <td>39.0</td>\n",
       "      <td>Maroc</td>\n",
       "      <td>Casablanca - Settat</td>\n",
       "      <td>NaN</td>\n",
       "      <td>NaN</td>\n",
       "      <td>NaN</td>\n",
       "      <td>NaN</td>\n",
       "      <td>Imported</td>\n",
       "      <td>NaN</td>\n",
       "      <td>NaN</td>\n",
       "      <td>NaN</td>\n",
       "      <td>3/2/20</td>\n",
       "      <td>3/17/20</td>\n",
       "      <td>NaN</td>\n",
       "      <td>Exit</td>\n",
       "    </tr>\n",
       "    <tr>\n",
       "      <th>1</th>\n",
       "      <td>1</td>\n",
       "      <td>female</td>\n",
       "      <td>89.0</td>\n",
       "      <td>Maroc</td>\n",
       "      <td>Casablanca - Settat</td>\n",
       "      <td>1.0</td>\n",
       "      <td>NaN</td>\n",
       "      <td>NaN</td>\n",
       "      <td>NaN</td>\n",
       "      <td>Imported</td>\n",
       "      <td>NaN</td>\n",
       "      <td>NaN</td>\n",
       "      <td>NaN</td>\n",
       "      <td>3/5/20</td>\n",
       "      <td>NaN</td>\n",
       "      <td>3/10/20</td>\n",
       "      <td>Deceased</td>\n",
       "    </tr>\n",
       "    <tr>\n",
       "      <th>2</th>\n",
       "      <td>2</td>\n",
       "      <td>male</td>\n",
       "      <td>59.0</td>\n",
       "      <td>France</td>\n",
       "      <td>Marrakech - Safi</td>\n",
       "      <td>NaN</td>\n",
       "      <td>NaN</td>\n",
       "      <td>3/7/20</td>\n",
       "      <td>NaN</td>\n",
       "      <td>Imported</td>\n",
       "      <td>NaN</td>\n",
       "      <td>NaN</td>\n",
       "      <td>NaN</td>\n",
       "      <td>3/10/20</td>\n",
       "      <td>3/29/20</td>\n",
       "      <td>NaN</td>\n",
       "      <td>Exit</td>\n",
       "    </tr>\n",
       "    <tr>\n",
       "      <th>3</th>\n",
       "      <td>3</td>\n",
       "      <td>female</td>\n",
       "      <td>NaN</td>\n",
       "      <td>France</td>\n",
       "      <td>Marrakech - Safi</td>\n",
       "      <td>NaN</td>\n",
       "      <td>NaN</td>\n",
       "      <td>3/7/20</td>\n",
       "      <td>NaN</td>\n",
       "      <td>Imported</td>\n",
       "      <td>NaN</td>\n",
       "      <td>NaN</td>\n",
       "      <td>NaN</td>\n",
       "      <td>3/11/20</td>\n",
       "      <td>3/29/20</td>\n",
       "      <td>NaN</td>\n",
       "      <td>Exit</td>\n",
       "    </tr>\n",
       "    <tr>\n",
       "      <th>4</th>\n",
       "      <td>4</td>\n",
       "      <td>female</td>\n",
       "      <td>1.0</td>\n",
       "      <td>France</td>\n",
       "      <td>Marrakech - Safi</td>\n",
       "      <td>NaN</td>\n",
       "      <td>NaN</td>\n",
       "      <td>3/7/20</td>\n",
       "      <td>NaN</td>\n",
       "      <td>Imported</td>\n",
       "      <td>NaN</td>\n",
       "      <td>NaN</td>\n",
       "      <td>NaN</td>\n",
       "      <td>3/11/20</td>\n",
       "      <td>3/29/20</td>\n",
       "      <td>NaN</td>\n",
       "      <td>Exit</td>\n",
       "    </tr>\n",
       "  </tbody>\n",
       "</table>\n",
       "</div>"
      ],
      "text/plain": [
       "   n     sex   age country             province  disease  group  \\\n",
       "0  0    male  39.0   Maroc  Casablanca - Settat      NaN    NaN   \n",
       "1  1  female  89.0   Maroc  Casablanca - Settat      1.0    NaN   \n",
       "2  2    male  59.0  France     Marrakech - Safi      NaN    NaN   \n",
       "3  3  female   NaN  France     Marrakech - Safi      NaN    NaN   \n",
       "4  4  female   1.0  France     Marrakech - Safi      NaN    NaN   \n",
       "\n",
       "  exposure_start exposure_end infection_reason  infection_order  infected_by  \\\n",
       "0            NaN          NaN         Imported              NaN          NaN   \n",
       "1            NaN          NaN         Imported              NaN          NaN   \n",
       "2         3/7/20          NaN         Imported              NaN          NaN   \n",
       "3         3/7/20          NaN         Imported              NaN          NaN   \n",
       "4         3/7/20          NaN         Imported              NaN          NaN   \n",
       "\n",
       "   contact_number confirmed_date released_date deceased_date     state  \n",
       "0             NaN         3/2/20       3/17/20           NaN      Exit  \n",
       "1             NaN         3/5/20           NaN       3/10/20  Deceased  \n",
       "2             NaN        3/10/20       3/29/20           NaN      Exit  \n",
       "3             NaN        3/11/20       3/29/20           NaN      Exit  \n",
       "4             NaN        3/11/20       3/29/20           NaN      Exit  "
      ]
     },
     "execution_count": 2,
     "metadata": {},
     "output_type": "execute_result"
    }
   ],
   "source": [
    "data = pd.read_csv(\"C:/Users/um6p/Downloads/patients-maroc (1).csv\")\n",
    "data.head()"
   ]
  },
  {
   "cell_type": "markdown",
   "metadata": {},
   "source": [
    "<h2>Identify and handle missing values</h2>"
   ]
  },
  {
   "cell_type": "markdown",
   "metadata": {},
   "source": [
    "<h3>Identify missing values</h3>"
   ]
  },
  {
   "cell_type": "markdown",
   "metadata": {},
   "source": [
    "<h4>Count missing values in each column</h4>"
   ]
  },
  {
   "cell_type": "code",
   "execution_count": 3,
   "metadata": {},
   "outputs": [],
   "source": [
    "missing_data = data.isnull()"
   ]
  },
  {
   "cell_type": "code",
   "execution_count": 4,
   "metadata": {},
   "outputs": [
    {
     "name": "stdout",
     "output_type": "stream",
     "text": [
      "n\n",
      "False    1184\n",
      "Name: n, dtype: int64\n",
      "\n",
      "sex\n",
      "True     1120\n",
      "False      64\n",
      "Name: sex, dtype: int64\n",
      "\n",
      "age\n",
      "True     1145\n",
      "False      39\n",
      "Name: age, dtype: int64\n",
      "\n",
      "country\n",
      "True     1174\n",
      "False      10\n",
      "Name: country, dtype: int64\n",
      "\n",
      "province\n",
      "False    1184\n",
      "Name: province, dtype: int64\n",
      "\n",
      "disease\n",
      "True     1174\n",
      "False      10\n",
      "Name: disease, dtype: int64\n",
      "\n",
      "group\n",
      "True    1184\n",
      "Name: group, dtype: int64\n",
      "\n",
      "exposure_start\n",
      "True     1172\n",
      "False      12\n",
      "Name: exposure_start, dtype: int64\n",
      "\n",
      "exposure_end\n",
      "True     1169\n",
      "False      15\n",
      "Name: exposure_end, dtype: int64\n",
      "\n",
      "infection_reason\n",
      "False    1025\n",
      "True      159\n",
      "Name: infection_reason, dtype: int64\n",
      "\n",
      "infection_order\n",
      "True     1183\n",
      "False       1\n",
      "Name: infection_order, dtype: int64\n",
      "\n",
      "infected_by\n",
      "True    1184\n",
      "Name: infected_by, dtype: int64\n",
      "\n",
      "contact_number\n",
      "True    1184\n",
      "Name: contact_number, dtype: int64\n",
      "\n",
      "confirmed_date\n",
      "False    1184\n",
      "Name: confirmed_date, dtype: int64\n",
      "\n",
      "released_date\n",
      "True     1178\n",
      "False       6\n",
      "Name: released_date, dtype: int64\n",
      "\n",
      "deceased_date\n",
      "True     1173\n",
      "False      11\n",
      "Name: deceased_date, dtype: int64\n",
      "\n",
      "state\n",
      "False    1184\n",
      "Name: state, dtype: int64\n",
      "\n"
     ]
    }
   ],
   "source": [
    "for column in missing_data.columns.values.tolist():\n",
    "    print(column)\n",
    "    print (missing_data[column].value_counts())\n",
    "    print(\"\")  "
   ]
  },
  {
   "cell_type": "markdown",
   "metadata": {},
   "source": [
    "<b>Supprimer des données</b>\n",
    "d'apres les resultats qu'on a obtenu :\n",
    "<ol>\n",
    "    <li>\"sex\": sup 90% missing data</li>\n",
    "    <li>\"age\":sup 90% missing data</li>\n",
    "    <li>\"country\": sup 90% missing data</li>\n",
    "    <li>\"disease\" : sup 90% missing data</li>\n",
    "    <li>\"group\": sup 90% missing data</li>\n",
    "    <li>\"exposure_start\": sup 90% missing data</li>\n",
    "    <li>\"exposure_end\": sup 90% missing data</li>\n",
    "    <li>\"infection_order\": sup 90% missing data</li>\n",
    "    <li>\"infected_by\": sup 90% missing data</li>\n",
    "    <li>\"contact_number\": sup 90% missing data</li>\n",
    "    <li>\"released_date\": sup 90% missing data</li>\n",
    "    <li>\"deceased_date\": sup 90% missing data</li>\n",
    "</ol>\n",
    "On ne peut pas affecter aucune correction des données, donc on doit supprimer tout ces colonnes."
   ]
  },
  {
   "cell_type": "code",
   "execution_count": 5,
   "metadata": {},
   "outputs": [
    {
     "data": {
      "text/html": [
       "<div>\n",
       "<style scoped>\n",
       "    .dataframe tbody tr th:only-of-type {\n",
       "        vertical-align: middle;\n",
       "    }\n",
       "\n",
       "    .dataframe tbody tr th {\n",
       "        vertical-align: top;\n",
       "    }\n",
       "\n",
       "    .dataframe thead th {\n",
       "        text-align: right;\n",
       "    }\n",
       "</style>\n",
       "<table border=\"1\" class=\"dataframe\">\n",
       "  <thead>\n",
       "    <tr style=\"text-align: right;\">\n",
       "      <th></th>\n",
       "      <th>n</th>\n",
       "      <th>province</th>\n",
       "      <th>infection_reason</th>\n",
       "      <th>confirmed_date</th>\n",
       "      <th>state</th>\n",
       "    </tr>\n",
       "  </thead>\n",
       "  <tbody>\n",
       "    <tr>\n",
       "      <th>0</th>\n",
       "      <td>0</td>\n",
       "      <td>Casablanca - Settat</td>\n",
       "      <td>Imported</td>\n",
       "      <td>3/2/20</td>\n",
       "      <td>Exit</td>\n",
       "    </tr>\n",
       "    <tr>\n",
       "      <th>1</th>\n",
       "      <td>1</td>\n",
       "      <td>Casablanca - Settat</td>\n",
       "      <td>Imported</td>\n",
       "      <td>3/5/20</td>\n",
       "      <td>Deceased</td>\n",
       "    </tr>\n",
       "    <tr>\n",
       "      <th>2</th>\n",
       "      <td>2</td>\n",
       "      <td>Marrakech - Safi</td>\n",
       "      <td>Imported</td>\n",
       "      <td>3/10/20</td>\n",
       "      <td>Exit</td>\n",
       "    </tr>\n",
       "    <tr>\n",
       "      <th>3</th>\n",
       "      <td>3</td>\n",
       "      <td>Marrakech - Safi</td>\n",
       "      <td>Imported</td>\n",
       "      <td>3/11/20</td>\n",
       "      <td>Exit</td>\n",
       "    </tr>\n",
       "    <tr>\n",
       "      <th>4</th>\n",
       "      <td>4</td>\n",
       "      <td>Marrakech - Safi</td>\n",
       "      <td>Imported</td>\n",
       "      <td>3/11/20</td>\n",
       "      <td>Exit</td>\n",
       "    </tr>\n",
       "  </tbody>\n",
       "</table>\n",
       "</div>"
      ],
      "text/plain": [
       "   n             province infection_reason confirmed_date     state\n",
       "0  0  Casablanca - Settat         Imported         3/2/20      Exit\n",
       "1  1  Casablanca - Settat         Imported         3/5/20  Deceased\n",
       "2  2     Marrakech - Safi         Imported        3/10/20      Exit\n",
       "3  3     Marrakech - Safi         Imported        3/11/20      Exit\n",
       "4  4     Marrakech - Safi         Imported        3/11/20      Exit"
      ]
     },
     "execution_count": 5,
     "metadata": {},
     "output_type": "execute_result"
    }
   ],
   "source": [
    "new_data = data.drop([\"sex\",\"age\",\"country\",\"disease\",\"group\",\"exposure_start\",\"exposure_end\",\"infection_order\",\"infected_by\",\"contact_number\",\"released_date\",\"deceased_date\"], axis=1)\n",
    "new_data.head()"
   ]
  },
  {
   "cell_type": "markdown",
   "metadata": {},
   "source": [
    "<b>Remplacer par  frequency</b>\n",
    "d'apres les resultats qu'on a obtenu :\n",
    "<ol>\n",
    "    <li>\"infection_reason\": 159 missing data</li>\n",
    "</ol>"
   ]
  },
  {
   "cell_type": "code",
   "execution_count": 6,
   "metadata": {},
   "outputs": [
    {
     "data": {
      "text/plain": [
       "Local       976\n",
       "Imported     31\n",
       "local        13\n",
       "imported      5\n",
       "Name: infection_reason, dtype: int64"
      ]
     },
     "execution_count": 6,
     "metadata": {},
     "output_type": "execute_result"
    }
   ],
   "source": [
    "new_data['infection_reason'].value_counts()"
   ]
  },
  {
   "cell_type": "code",
   "execution_count": 7,
   "metadata": {},
   "outputs": [],
   "source": [
    "local = data['infection_reason'].value_counts().idxmax()"
   ]
  },
  {
   "cell_type": "code",
   "execution_count": 8,
   "metadata": {},
   "outputs": [],
   "source": [
    "new_data['infection_reason'].replace(np.nan,local,inplace=True)"
   ]
  },
  {
   "cell_type": "markdown",
   "metadata": {},
   "source": [
    "Il y a dans ce colonne les valeurs <strong>L</strong>ocal et <strong>l</strong>ocal, <strong>I</strong>mported et <strong>i</strong>mported qui ont les memes alort on choisi un parmie les deux<br>\n",
    "replacer par 'Local' car 82% des infection_reason sont Local.<br>\n",
    "pour confirmed_date on va remplacer la date <strong>03/26/2020</strong> par <strong>3/26/20 </strong>"
   ]
  },
  {
   "cell_type": "code",
   "execution_count": 9,
   "metadata": {},
   "outputs": [],
   "source": [
    "new_data['infection_reason'].replace(\"local\",\"Local\",inplace=True)\n",
    "new_data['infection_reason'].replace(\"imported\",\"Imported\",inplace=True)"
   ]
  },
  {
   "cell_type": "code",
   "execution_count": 10,
   "metadata": {},
   "outputs": [],
   "source": [
    "new_data['confirmed_date'].replace(\"03/26/2020\",\"3/26/20\",inplace=True)"
   ]
  },
  {
   "cell_type": "markdown",
   "metadata": {},
   "source": [
    "les colonnes province et state va reste inchangé, car les tout ont 0% missing data"
   ]
  },
  {
   "cell_type": "code",
   "execution_count": 11,
   "metadata": {},
   "outputs": [
    {
     "data": {
      "text/html": [
       "<div>\n",
       "<style scoped>\n",
       "    .dataframe tbody tr th:only-of-type {\n",
       "        vertical-align: middle;\n",
       "    }\n",
       "\n",
       "    .dataframe tbody tr th {\n",
       "        vertical-align: top;\n",
       "    }\n",
       "\n",
       "    .dataframe thead th {\n",
       "        text-align: right;\n",
       "    }\n",
       "</style>\n",
       "<table border=\"1\" class=\"dataframe\">\n",
       "  <thead>\n",
       "    <tr style=\"text-align: right;\">\n",
       "      <th></th>\n",
       "      <th>n</th>\n",
       "      <th>province</th>\n",
       "      <th>infection_reason</th>\n",
       "      <th>confirmed_date</th>\n",
       "      <th>state</th>\n",
       "    </tr>\n",
       "  </thead>\n",
       "  <tbody>\n",
       "    <tr>\n",
       "      <th>0</th>\n",
       "      <td>0</td>\n",
       "      <td>Casablanca - Settat</td>\n",
       "      <td>Imported</td>\n",
       "      <td>3/2/20</td>\n",
       "      <td>Exit</td>\n",
       "    </tr>\n",
       "    <tr>\n",
       "      <th>1</th>\n",
       "      <td>1</td>\n",
       "      <td>Casablanca - Settat</td>\n",
       "      <td>Imported</td>\n",
       "      <td>3/5/20</td>\n",
       "      <td>Deceased</td>\n",
       "    </tr>\n",
       "    <tr>\n",
       "      <th>2</th>\n",
       "      <td>2</td>\n",
       "      <td>Marrakech - Safi</td>\n",
       "      <td>Imported</td>\n",
       "      <td>3/10/20</td>\n",
       "      <td>Exit</td>\n",
       "    </tr>\n",
       "    <tr>\n",
       "      <th>3</th>\n",
       "      <td>3</td>\n",
       "      <td>Marrakech - Safi</td>\n",
       "      <td>Imported</td>\n",
       "      <td>3/11/20</td>\n",
       "      <td>Exit</td>\n",
       "    </tr>\n",
       "    <tr>\n",
       "      <th>4</th>\n",
       "      <td>4</td>\n",
       "      <td>Marrakech - Safi</td>\n",
       "      <td>Imported</td>\n",
       "      <td>3/11/20</td>\n",
       "      <td>Exit</td>\n",
       "    </tr>\n",
       "  </tbody>\n",
       "</table>\n",
       "</div>"
      ],
      "text/plain": [
       "   n             province infection_reason confirmed_date     state\n",
       "0  0  Casablanca - Settat         Imported         3/2/20      Exit\n",
       "1  1  Casablanca - Settat         Imported         3/5/20  Deceased\n",
       "2  2     Marrakech - Safi         Imported        3/10/20      Exit\n",
       "3  3     Marrakech - Safi         Imported        3/11/20      Exit\n",
       "4  4     Marrakech - Safi         Imported        3/11/20      Exit"
      ]
     },
     "execution_count": 11,
     "metadata": {},
     "output_type": "execute_result"
    }
   ],
   "source": [
    "new_data.head()"
   ]
  },
  {
   "cell_type": "markdown",
   "metadata": {},
   "source": [
    "<h3>data format</h3>"
   ]
  },
  {
   "cell_type": "code",
   "execution_count": 12,
   "metadata": {},
   "outputs": [
    {
     "data": {
      "text/plain": [
       "n                    int64\n",
       "province            object\n",
       "infection_reason    object\n",
       "confirmed_date      object\n",
       "state               object\n",
       "dtype: object"
      ]
     },
     "execution_count": 12,
     "metadata": {},
     "output_type": "execute_result"
    }
   ],
   "source": [
    "new_data.dtypes"
   ]
  },
  {
   "cell_type": "markdown",
   "metadata": {},
   "source": [
    "Alort, nous obtenons notre data sans missing values et à propre format."
   ]
  },
  {
   "cell_type": "code",
   "execution_count": 13,
   "metadata": {},
   "outputs": [
    {
     "data": {
      "text/plain": [
       "<matplotlib.axes._subplots.AxesSubplot at 0x21210482188>"
      ]
     },
     "execution_count": 13,
     "metadata": {},
     "output_type": "execute_result"
    },
    {
     "data": {
      "image/png": "[encoded data removed]",
      "text/plain": [
       "<Figure size 432x288 with 1 Axes>"
      ]
     },
     "metadata": {
      "needs_background": "light"
     },
     "output_type": "display_data"
    }
   ],
   "source": [
    "pd.DataFrame(new_data['province'].value_counts(), new_data['province'].unique()).plot.bar()"
   ]
  },
  {
   "cell_type": "code",
   "execution_count": 14,
   "metadata": {},
   "outputs": [
    {
     "data": {
      "text/plain": [
       "<matplotlib.axes._subplots.AxesSubplot at 0x21210c35a48>"
      ]
     },
     "execution_count": 14,
     "metadata": {},
     "output_type": "execute_result"
    },
    {
     "data": {
      "image/png": "[encoded data removed]",
      "text/plain": [
       "<Figure size 432x288 with 1 Axes>"
      ]
     },
     "metadata": {
      "needs_background": "light"
     },
     "output_type": "display_data"
    }
   ],
   "source": [
    "pd.DataFrame(new_data['confirmed_date'].value_counts(), new_data['confirmed_date'].unique()).plot.line()"
   ]
  },
  {
   "cell_type": "code",
   "execution_count": 15,
   "metadata": {},
   "outputs": [
    {
     "data": {
      "text/plain": [
       "<matplotlib.axes._subplots.AxesSubplot at 0x21210c9a088>"
      ]
     },
     "execution_count": 15,
     "metadata": {},
     "output_type": "execute_result"
    },
    {
     "data": {
      "image/png": "[encoded data removed]",
      "text/plain": [
       "<Figure size 432x288 with 1 Axes>"
      ]
     },
     "metadata": {
      "needs_background": "light"
     },
     "output_type": "display_data"
    }
   ],
   "source": [
    "pd.DataFrame(new_data['infection_reason'].value_counts(), new_data['infection_reason'].unique()).plot.bar()"
   ]
  },
  {
   "cell_type": "code",
   "execution_count": 16,
   "metadata": {},
   "outputs": [
    {
     "data": {
      "text/plain": [
       "<matplotlib.axes._subplots.AxesSubplot at 0x21210d28388>"
      ]
     },
     "execution_count": 16,
     "metadata": {},
     "output_type": "execute_result"
    },
    {
     "data": {
      "image/png": "[encoded data removed]",
      "text/plain": [
       "<Figure size 432x288 with 1 Axes>"
      ]
     },
     "metadata": {
      "needs_background": "light"
     },
     "output_type": "display_data"
    }
   ],
   "source": [
    "pd.DataFrame(new_data['state'].value_counts(), new_data['state'].unique()).plot.bar()"
   ]
  },
  {
   "cell_type": "code",
   "execution_count": 17,
   "metadata": {},
   "outputs": [
    {
     "data": {
      "text/plain": [
       "<matplotlib.axes._subplots.AxesSubplot at 0x21210d8b788>"
      ]
     },
     "execution_count": 17,
     "metadata": {},
     "output_type": "execute_result"
    },
    {
     "data": {
      "image/png": "[encoded data removed]",
      "text/plain": [
       "<Figure size 432x288 with 1 Axes>"
      ]
     },
     "metadata": {},
     "output_type": "display_data"
    }
   ],
   "source": [
    "new_data['state'].value_counts().plot.pie()"
   ]
  },
  {
   "cell_type": "code",
   "execution_count": 18,
   "metadata": {},
   "outputs": [
    {
     "data": {
      "text/plain": [
       "<matplotlib.axes._subplots.AxesSubplot at 0x21210dd1e48>"
      ]
     },
     "execution_count": 18,
     "metadata": {},
     "output_type": "execute_result"
    },
    {
     "data": {
      "image/png": "[encoded data removed]",
      "text/plain": [
       "<Figure size 432x288 with 1 Axes>"
      ]
     },
     "metadata": {
      "needs_background": "light"
     },
     "output_type": "display_data"
    }
   ],
   "source": [
    "new_data.boxplot(by='state') "
   ]
  },
  {
   "cell_type": "markdown",
   "metadata": {},
   "source": [
    "<h2>Analysis of Variance</h2>"
   ]
  },
  {
   "cell_type": "markdown",
   "metadata": {},
   "source": [
    "On va tester la signification entre les groupes des variables dépandant et la variable indepandant <strong>state</strong> par la methode <strong>ANOVA</strong> on analysant <strong>F-test score</strong> et <strong>P-value</strong> "
   ]
  },
  {
   "cell_type": "markdown",
   "metadata": {},
   "source": [
    "L'etude va concerner les provinces : Casablanca - Settat, Marrakech - Safi et Laayoune - Saguia al hamra"
   ]
  },
  {
   "cell_type": "markdown",
   "metadata": {},
   "source": [
    "A faire"
   ]
  },
  {
   "cell_type": "markdown",
   "metadata": {},
   "source": [
    "<h3>province</h3>"
   ]
  },
  {
   "cell_type": "code",
   "execution_count": 19,
   "metadata": {},
   "outputs": [],
   "source": [
    "grb_province=new_data[['province','state']].groupby(['province'], as_index=True)"
   ]
  },
  {
   "cell_type": "markdown",
   "metadata": {},
   "source": [
    "<h3>confirmed_date</3>"
   ]
  },
  {
   "cell_type": "code",
   "execution_count": 20,
   "metadata": {},
   "outputs": [
    {
     "data": {
      "text/plain": [
       "<matplotlib.axes._subplots.AxesSubplot at 0x21210eb3e48>"
      ]
     },
     "execution_count": 20,
     "metadata": {},
     "output_type": "execute_result"
    },
    {
     "data": {
      "image/png": "[encoded data removed]",
      "text/plain": [
       "<Figure size 432x288 with 1 Axes>"
      ]
     },
     "metadata": {
      "needs_background": "light"
     },
     "output_type": "display_data"
    }
   ],
   "source": [
    "grb_province=new_data[['confirmed_date','state']].groupby(['state'], as_index=True)\n",
    "confirmed_date = {}\n",
    "for key in (grb_province.groups.keys()):\n",
    "    confirmed_date[key] = {}\n",
    "    for date in new_data['confirmed_date'].unique():\n",
    "        confirmed_date[key][date]=grb_province.get_group(key).loc[grb_province.get_group(key)['confirmed_date'] == date].count()[0]\n",
    "pd.DataFrame(confirmed_date).plot()"
   ]
  },
  {
   "cell_type": "code",
   "execution_count": 21,
   "metadata": {},
   "outputs": [
    {
     "data": {
      "text/plain": [
       "<matplotlib.axes._subplots.AxesSubplot at 0x21210f3c708>"
      ]
     },
     "execution_count": 21,
     "metadata": {},
     "output_type": "execute_result"
    },
    {
     "data": {
      "image/png": "[encoded data removed]",
      "text/plain": [
       "<Figure size 720x360 with 1 Axes>"
      ]
     },
     "metadata": {
      "needs_background": "light"
     },
     "output_type": "display_data"
    }
   ],
   "source": [
    "grb_province=new_data[['province','state']].groupby(['state'], as_index=True)\n",
    "confirmed_date = {}\n",
    "for key in (grb_province.groups.keys()):\n",
    "    confirmed_date[key] = {}\n",
    "    for province in new_data['province'].unique():\n",
    "        confirmed_date[key][province]=grb_province.get_group(key).loc[grb_province.get_group(key)['province'] == province].count()[0]\n",
    "pd.DataFrame(confirmed_date).plot.bar(figsize=(10,5))"
   ]
  },
  {
   "cell_type": "code",
   "execution_count": 22,
   "metadata": {},
   "outputs": [
    {
     "data": {
      "text/plain": [
       "<matplotlib.axes._subplots.AxesSubplot at 0x21211018288>"
      ]
     },
     "execution_count": 22,
     "metadata": {},
     "output_type": "execute_result"
    },
    {
     "data": {
      "image/png": "[encoded data removed]",
      "text/plain": [
       "<Figure size 720x360 with 1 Axes>"
      ]
     },
     "metadata": {
      "needs_background": "light"
     },
     "output_type": "display_data"
    }
   ],
   "source": [
    "grb_province=new_data[['infection_reason','state']].groupby(['state'], as_index=True)\n",
    "infection_reason = {}\n",
    "for key in (grb_province.groups.keys()):\n",
    "    infection_reason[key] = {}\n",
    "    for reason in new_data['infection_reason'].unique():\n",
    "        infection_reason[key][reason]=grb_province.get_group(key).loc[grb_province.get_group(key)['infection_reason'] == reason].count()[0]\n",
    "pd.DataFrame(infection_reason).plot.bar(figsize=(10,5),title=\"infection reason avec ces états\")"
   ]
  },
  {
   "cell_type": "markdown",
   "metadata": {},
   "source": [
    "<h1>DASH</h1>"
   ]
  },
  {
   "cell_type": "code",
   "execution_count": 60,
   "metadata": {},
   "outputs": [],
   "source": [
    "def getDataForEachProvince():\n",
    "    grb_province=new_data[['province','confirmed_date','state']].groupby(['province'], as_index=True)\n",
    "    columns = {}\n",
    "    for key in list(grb_province.groups.keys()):\n",
    "        columns[key] = {}\n",
    "        tmp=pd.DataFrame(grb_province.get_group(key))\n",
    "        for res in tmp['confirmed_date'].value_counts().index:\n",
    "            columns[key][res] = dict(Exit = tmp[(tmp['confirmed_date'] == res) &  (tmp['state'] == 'Exit')].count()[0],\n",
    "                                    Deceased = tmp[(tmp['confirmed_date'] == res) &  (tmp['state'] == 'Deceased')].count()[0],\n",
    "                                    isolated = tmp[(tmp['confirmed_date'] == res) &  (tmp['state'] == 'isolated')].count()[0])\n",
    "    return columns\n",
    "\n",
    "\n",
    "def getOptions():\n",
    "    listOptions = []\n",
    "    for key in list(getDataForEachProvince().keys()):\n",
    "        listOptions.append(dict(label = key,value = key))\n",
    "    return listOptions\n",
    "\n",
    "\n",
    "def getPie(columnName):\n",
    "    layout = go.Layout(title = \"Diagramme de pie de \" + columnName + \"au maroc\",width=550,height=550)\n",
    "    fig = go.Figure(data=[go.Pie(labels=new_data[columnName].value_counts().index,values=new_data[columnName].value_counts())],\n",
    "                   layout=layout)\n",
    "    return fig\n",
    "\n",
    "def getStateWithData(column):\n",
    "    grb_province=new_data[[column,'state']].groupby(['state'], as_index=True)\n",
    "    columns = {}\n",
    "    for key in (grb_province.groups.keys()):\n",
    "        columns[key] = {}\n",
    "        for date in new_data[column].unique():\n",
    "            columns[key][date]=grb_province.get_group(key).loc[grb_province.get_group(key)[column] == date].count()[0]\n",
    "    return columns\n",
    "\n",
    "def getLinesData(column,layout) :\n",
    "    lineData = pd.DataFrame(getStateWithData(column))\n",
    "    traces = [\n",
    "        go.Scatter(\n",
    "            x = lineData.index,\n",
    "            y = lineData[date],\n",
    "            mode = 'lines',\n",
    "            name = date\n",
    "        )for date in lineData.columns]\n",
    "    layout = go.Layout(title = layout['title'],\n",
    "                   xaxis_title=layout['x_axis'],\n",
    "                   yaxis_title=layout['y_axis'],\n",
    "                    width=600,\n",
    "                    height=600)\n",
    "    fig = go.Figure(data = traces, layout = layout)\n",
    "    return fig\n",
    "\n",
    "def getBar(column,layout):\n",
    "    trace = [\n",
    "        go.Bar(\n",
    "            x = new_data[column].unique(),\n",
    "            y = new_data[column].value_counts()\n",
    "        )\n",
    "    ]\n",
    "    \n",
    "    layout = go.Layout(title = layout['title'],\n",
    "                   xaxis_title=layout['x_axis'],\n",
    "                   yaxis_title=layout['y_axis'],\n",
    "                    width=600,\n",
    "                    height=600)\n",
    "    fig = go.Figure(data = trace, layout = layout)\n",
    "    return fig\n",
    "\n",
    "def getMulBarsData(column,layout):\n",
    "    lineData = pd.DataFrame(getStateWithData(column))\n",
    "    columns = ['isolated', 'Deceased', 'Exit']\n",
    "    trace = [\n",
    "        go.Bar(\n",
    "            x = lineData.index,\n",
    "            y = lineData[lable],\n",
    "            name=lable\n",
    "        )for lable in columns]\n",
    "    \n",
    "    layout = go.Layout(title = layout['title'],\n",
    "                   xaxis_title=layout['x_axis'],\n",
    "                   yaxis_title=layout['y_axis'],\n",
    "                    barmode='stack',\n",
    "                    width=600,\n",
    "                    height=600)\n",
    "    fig = go.Figure(data = trace, layout = layout)\n",
    "    return fig\n"
   ]
  },
  {
   "cell_type": "code",
   "execution_count": 61,
   "metadata": {},
   "outputs": [],
   "source": [
    "state_count = new_data['state'].value_counts()\n",
    "app = dash.Dash(__name__)\n",
    "\n",
    "app.layout = html.Div(children=[\n",
    "    html.Img(id='corona_png',src='assets/covid-19.png'),\n",
    "    html.Img(id='um6p_png',src='assets/um6p.png'),\n",
    "    html.Div([\n",
    "        html.Div([\n",
    "        html.Div([\n",
    "            html.H4(html.B(children='Exit')),\n",
    "            html.P(id='exit',children=state_count['Exit'])\n",
    "        ],className=\"container\"),\n",
    "    ],className=\"card\",style={\n",
    "            'background-color': '#ccffcc'\n",
    "        }),\n",
    "        html.Div([\n",
    "        html.Div([\n",
    "            html.H4(html.B(children='Isolated')),\n",
    "            html.P(id='isolated',children=state_count['isolated'])\n",
    "        ],className=\"container\"),\n",
    "    ],className=\"card\",style={\n",
    "            'background-color': '#ffff00'\n",
    "        }),\n",
    "    html.Div([\n",
    "        html.Div([\n",
    "            html.H4(html.B(children='Deceased')),\n",
    "            html.P(id='deceased',children=state_count['Deceased'])\n",
    "        ],className=\"container\"),\n",
    "    ],className=\"card\",style={\n",
    "            'background-color': '#FFCCCC'\n",
    "        })        \n",
    "    ],id=\"cards\"),\n",
    "    \n",
    "    \n",
    "    html.Div([\n",
    "        html.Div([\n",
    "        html.Div([\n",
    "            dcc.Graph(\n",
    "                id='pie_state',\n",
    "                figure=getPie('state')\n",
    "            )\n",
    "        ],className=\"container\"),\n",
    "    ],className=\"graphe\",style={\n",
    "        }),\n",
    "        html.Div([\n",
    "        html.Div([\n",
    "            dcc.Graph(\n",
    "                id='line_date',\n",
    "                figure=getLinesData('confirmed_date',layout = dict(title=\"avancement de COVID-19 par rapport le temps\",x_axis=\"Mois\",y_axis=\"Nombre des états\"))\n",
    "            )\n",
    "        ],className=\"container\"),\n",
    "    ],className=\"graphe\",style={\n",
    "        })       \n",
    "    ],className=\"graphes\"),\n",
    "    \n",
    "    \n",
    "    html.Div([\n",
    "        html.Div([\n",
    "        html.Div([\n",
    "            dcc.Graph(\n",
    "                id='bar_province',\n",
    "                figure=getBar('province',layout = dict(title=\"Nombre totale les états dans chaque province\",x_axis=\"Province\",y_axis=\"Nombre des états\"))\n",
    "            )\n",
    "        ],className=\"container\"),\n",
    "    ],className=\"graphe\",style={\n",
    "        }),\n",
    "        html.Div([\n",
    "        html.Div([\n",
    "            dcc.Graph(\n",
    "                id='multiple_bar_province',\n",
    "                figure=getMulBarsData('province',layout = dict(title=\"Nombre des trois états dans chaque province\",x_axis=\"Mois\",y_axis=\"Nombre des états\"))\n",
    "            )\n",
    "        ],className=\"container\"),\n",
    "    ],className=\"graphe\",style={\n",
    "        })       \n",
    "    ],className=\"graphes\"),\n",
    "    \n",
    "        \n",
    "    html.Div([\n",
    "        html.Div([\n",
    "        html.Div([\n",
    "            dcc.Graph(\n",
    "                id='bar_infection_reason',\n",
    "                figure=getBar('infection_reason',layout = dict(title=\"Raison de l'infection\",x_axis=\"Reaon\",y_axis=\"Nombre des états\"))\n",
    "            )\n",
    "        ],className=\"container\"),\n",
    "    ],className=\"graphe\",style={\n",
    "        }),\n",
    "        html.Div([\n",
    "            dcc.Dropdown(\n",
    "                id='dropdown',\n",
    "                options=getOptions(),\n",
    "                value='Casablanca - Settat'\n",
    "                ),\n",
    "            html.Div([\n",
    "                dcc.Graph(\n",
    "                    id='grapheWithProvince'\n",
    "                    )\n",
    "            ],className=\"container\"),\n",
    "\n",
    "        ],className=\"graphe\",style={\n",
    "    }),\n",
    "    ],className=\"graphes\"),\n",
    "])\n",
    "\n",
    "@app.callback(\n",
    "    dash.dependencies.Output('grapheWithProvince', 'figure'),\n",
    "    [dash.dependencies.Input('dropdown', 'value')])\n",
    "\n",
    "def update_figure(provinceSelected):\n",
    "    lineData = pd.DataFrame(OrderedDict(sorted(getDataForEachProvince()[provinceSelected].items())))\n",
    "    traces = [\n",
    "        go.Scatter(\n",
    "            x = lineData.columns,\n",
    "            y = lineData.loc[date],\n",
    "            mode = 'lines',\n",
    "            name=date\n",
    "        )for date in lineData.index]\n",
    "    layout = go.Layout(title = \"Diagramme d'évolution à \",\n",
    "                   xaxis_title='Mois',\n",
    "                   yaxis_title='Nombre des états',\n",
    "                    width=550,\n",
    "                    height=550)\n",
    "    \n",
    "    return {\n",
    "        'data' : traces,\n",
    "        'layout' : layout\n",
    "    }\n"
   ]
  },
  {
   "cell_type": "code",
   "execution_count": 62,
   "metadata": {
    "scrolled": false
   },
   "outputs": [
    {
     "name": "stdout",
     "output_type": "stream",
     "text": [
      " * Serving Flask app \"__main__\" (lazy loading)\n",
      " * Environment: production\n",
      "   WARNING: This is a development server. Do not use it in a production deployment.\n",
      "   Use a production WSGI server instead.\n",
      " * Debug mode: off\n"
     ]
    },
    {
     "name": "stderr",
     "output_type": "stream",
     "text": [
      " * Running on http://127.0.0.1:8050/ (Press CTRL+C to quit)\n",
      "127.0.0.1 - - [05/May/2020 23:09:55] \"\u001b[37mGET / HTTP/1.1\u001b[0m\" 200 -\n",
      "127.0.0.1 - - [05/May/2020 23:09:56] \"\u001b[37mGET /_dash-dependencies HTTP/1.1\u001b[0m\" 200 -\n",
      "127.0.0.1 - - [05/May/2020 23:09:56] \"\u001b[37mGET /_dash-layout HTTP/1.1\u001b[0m\" 200 -\n",
      "127.0.0.1 - - [05/May/2020 23:09:57] \"\u001b[37mPOST /_dash-update-component HTTP/1.1\u001b[0m\" 200 -\n",
      "127.0.0.1 - - [05/May/2020 23:10:17] \"\u001b[37mPOST /_dash-update-component HTTP/1.1\u001b[0m\" 200 -\n"
     ]
    }
   ],
   "source": [
    "if __name__ == '__main__':\n",
    "    app.run_server(debug=False)"
   ]
  },
  {
   "cell_type": "code",
   "execution_count": null,
   "metadata": {},
   "outputs": [],
   "source": []
  },
  {
   "cell_type": "code",
   "execution_count": null,
   "metadata": {},
   "outputs": [],
   "source": []
  },
  {
   "cell_type": "code",
   "execution_count": null,
   "metadata": {},
   "outputs": [],
   "source": []
  },
  {
   "cell_type": "code",
   "execution_count": null,
   "metadata": {},
   "outputs": [],
   "source": []
  },
  {
   "cell_type": "code",
   "execution_count": null,
   "metadata": {},
   "outputs": [],
   "source": []
  },
  {
   "cell_type": "code",
   "execution_count": null,
   "metadata": {},
   "outputs": [],
   "source": []
  }
 ],
 "metadata": {
  "kernelspec": {
   "display_name": "Python 3",
   "language": "python",
   "name": "python3"
  },
  "language_info": {
   "codemirror_mode": {
    "name": "ipython",
    "version": 3
   },
   "file_extension": ".py",
   "mimetype": "text/x-python",
   "name": "python",
   "nbconvert_exporter": "python",
   "pygments_lexer": "ipython3",
   "version": "3.7.6"
  }
 },
 "nbformat": 4,
 "nbformat_minor": 4
}
